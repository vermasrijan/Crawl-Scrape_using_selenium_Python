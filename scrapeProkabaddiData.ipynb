{
 "cells": [
  {
   "cell_type": "code",
   "execution_count": 21,
   "metadata": {},
   "outputs": [],
   "source": [
    "#(https://www.jagran.com/search/pro-kabaddi-league)\n",
    "import selenium\n",
    "import time\n",
    "from selenium import webdriver"
   ]
  },
  {
   "cell_type": "code",
   "execution_count": 124,
   "metadata": {},
   "outputs": [],
   "source": [
    "driverpath = '/Users/pankajverma/Desktop/Pixxel/chromedriver'\n",
    "driver = webdriver.Chrome(driverpath)\n",
    "time.sleep(2)"
   ]
  },
  {
   "cell_type": "code",
   "execution_count": 132,
   "metadata": {},
   "outputs": [],
   "source": [
    "driver.get('https://www.jagran.com/other-sports/headlines-patna-pirates-beat-gujarat-fortune-giants-in-the-final-of-pro-kabaddi-league-season-5-and-third-time-won-the-title-16932725.html')\n",
    "time.sleep(2)"
   ]
  },
  {
   "cell_type": "code",
   "execution_count": 133,
   "metadata": {},
   "outputs": [],
   "source": [
    "#//*[@id=\"topHeading\"]/h1"
   ]
  },
  {
   "cell_type": "code",
   "execution_count": 134,
   "metadata": {},
   "outputs": [],
   "source": [
    "header = []\n",
    "elem = driver.find_element_by_xpath('//*[@id=\"topHeading\"]/h1').text\n",
    "header.append(elem)\n",
    "#print(header)"
   ]
  },
  {
   "cell_type": "code",
   "execution_count": 135,
   "metadata": {},
   "outputs": [],
   "source": [
    "article=[]\n",
    "for i in range(2,8):\n",
    "    elem1 = driver.find_element_by_xpath('//*[@id=\"1516105927837\"]/article/div[3]/p[%s]'%(i)).text\n",
    "    article.append(elem1)\n",
    "allText = header+article\n",
    "\n",
    "    \n",
    "    "
   ]
  },
  {
   "cell_type": "code",
   "execution_count": 136,
   "metadata": {},
   "outputs": [],
   "source": [
    "import codecs\n",
    "with codecs.open('/Users/pankajverma/Desktop/MessyFractals/pred.txt', 'a', 'utf-8') as f:\n",
    "    for text in allText:\n",
    "        f.write(text + '\\n')"
   ]
  },
  {
   "cell_type": "code",
   "execution_count": null,
   "metadata": {},
   "outputs": [],
   "source": []
  }
 ],
 "metadata": {
  "kernelspec": {
   "display_name": "Python [conda env:anaconda3]",
   "language": "python",
   "name": "conda-env-anaconda3-py"
  },
  "language_info": {
   "codemirror_mode": {
    "name": "ipython",
    "version": 3
   },
   "file_extension": ".py",
   "mimetype": "text/x-python",
   "name": "python",
   "nbconvert_exporter": "python",
   "pygments_lexer": "ipython3",
   "version": "3.6.5"
  }
 },
 "nbformat": 4,
 "nbformat_minor": 2
}
